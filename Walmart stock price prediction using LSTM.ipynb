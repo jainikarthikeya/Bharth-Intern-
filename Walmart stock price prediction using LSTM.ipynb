{
 "cells": [
  {
   "cell_type": "code",
   "execution_count": 2,
   "id": "840726b8",
   "metadata": {},
   "outputs": [],
   "source": [
    "import numpy as np\n",
    "import pandas as pd\n",
    "import matplotlib.pyplot as plt\n",
    "from sklearn.preprocessing import MinMaxScaler\n",
    "import tensorflow as tf\n",
    "from tensorflow.keras.models import Sequential\n",
    "from tensorflow.keras.layers import LSTM, Dense, Dropout"
   ]
  },
  {
   "cell_type": "code",
   "execution_count": 8,
   "id": "bc2e7b6d",
   "metadata": {},
   "outputs": [],
   "source": [
    "# Load your dataset\n",
    "df = pd.read_csv(r\"C:\\Users\\user\\OneDrive\\Desktop\\WMT.csv\")"
   ]
  },
  {
   "cell_type": "code",
   "execution_count": 9,
   "id": "232d40cf",
   "metadata": {},
   "outputs": [
    {
     "data": {
      "text/html": [
       "<div>\n",
       "<style scoped>\n",
       "    .dataframe tbody tr th:only-of-type {\n",
       "        vertical-align: middle;\n",
       "    }\n",
       "\n",
       "    .dataframe tbody tr th {\n",
       "        vertical-align: top;\n",
       "    }\n",
       "\n",
       "    .dataframe thead th {\n",
       "        text-align: right;\n",
       "    }\n",
       "</style>\n",
       "<table border=\"1\" class=\"dataframe\">\n",
       "  <thead>\n",
       "    <tr style=\"text-align: right;\">\n",
       "      <th></th>\n",
       "      <th>Date</th>\n",
       "      <th>Open</th>\n",
       "      <th>High</th>\n",
       "      <th>Low</th>\n",
       "      <th>Close</th>\n",
       "      <th>Adj Close</th>\n",
       "      <th>Volume</th>\n",
       "    </tr>\n",
       "  </thead>\n",
       "  <tbody>\n",
       "    <tr>\n",
       "      <th>0</th>\n",
       "      <td>1972-08-25</td>\n",
       "      <td>0.063477</td>\n",
       "      <td>0.064697</td>\n",
       "      <td>0.063477</td>\n",
       "      <td>0.064453</td>\n",
       "      <td>0.036447</td>\n",
       "      <td>2508800</td>\n",
       "    </tr>\n",
       "    <tr>\n",
       "      <th>1</th>\n",
       "      <td>1972-08-28</td>\n",
       "      <td>0.064453</td>\n",
       "      <td>0.064941</td>\n",
       "      <td>0.064209</td>\n",
       "      <td>0.064209</td>\n",
       "      <td>0.036309</td>\n",
       "      <td>972800</td>\n",
       "    </tr>\n",
       "    <tr>\n",
       "      <th>2</th>\n",
       "      <td>1972-08-29</td>\n",
       "      <td>0.063965</td>\n",
       "      <td>0.063965</td>\n",
       "      <td>0.063477</td>\n",
       "      <td>0.063477</td>\n",
       "      <td>0.035895</td>\n",
       "      <td>1945600</td>\n",
       "    </tr>\n",
       "    <tr>\n",
       "      <th>3</th>\n",
       "      <td>1972-08-30</td>\n",
       "      <td>0.063477</td>\n",
       "      <td>0.063477</td>\n",
       "      <td>0.062988</td>\n",
       "      <td>0.063477</td>\n",
       "      <td>0.035895</td>\n",
       "      <td>409600</td>\n",
       "    </tr>\n",
       "    <tr>\n",
       "      <th>4</th>\n",
       "      <td>1972-08-31</td>\n",
       "      <td>0.062988</td>\n",
       "      <td>0.062988</td>\n",
       "      <td>0.062500</td>\n",
       "      <td>0.062500</td>\n",
       "      <td>0.035343</td>\n",
       "      <td>870400</td>\n",
       "    </tr>\n",
       "  </tbody>\n",
       "</table>\n",
       "</div>"
      ],
      "text/plain": [
       "         Date      Open      High       Low     Close  Adj Close   Volume\n",
       "0  1972-08-25  0.063477  0.064697  0.063477  0.064453   0.036447  2508800\n",
       "1  1972-08-28  0.064453  0.064941  0.064209  0.064209   0.036309   972800\n",
       "2  1972-08-29  0.063965  0.063965  0.063477  0.063477   0.035895  1945600\n",
       "3  1972-08-30  0.063477  0.063477  0.062988  0.063477   0.035895   409600\n",
       "4  1972-08-31  0.062988  0.062988  0.062500  0.062500   0.035343   870400"
      ]
     },
     "execution_count": 9,
     "metadata": {},
     "output_type": "execute_result"
    }
   ],
   "source": [
    "df.head()"
   ]
  },
  {
   "cell_type": "code",
   "execution_count": 10,
   "id": "54336fc4",
   "metadata": {},
   "outputs": [
    {
     "data": {
      "text/html": [
       "<div>\n",
       "<style scoped>\n",
       "    .dataframe tbody tr th:only-of-type {\n",
       "        vertical-align: middle;\n",
       "    }\n",
       "\n",
       "    .dataframe tbody tr th {\n",
       "        vertical-align: top;\n",
       "    }\n",
       "\n",
       "    .dataframe thead th {\n",
       "        text-align: right;\n",
       "    }\n",
       "</style>\n",
       "<table border=\"1\" class=\"dataframe\">\n",
       "  <thead>\n",
       "    <tr style=\"text-align: right;\">\n",
       "      <th></th>\n",
       "      <th>Date</th>\n",
       "      <th>Open</th>\n",
       "      <th>High</th>\n",
       "      <th>Low</th>\n",
       "      <th>Close</th>\n",
       "      <th>Adj Close</th>\n",
       "      <th>Volume</th>\n",
       "    </tr>\n",
       "  </thead>\n",
       "  <tbody>\n",
       "    <tr>\n",
       "      <th>12486</th>\n",
       "      <td>2022-03-02</td>\n",
       "      <td>135.660004</td>\n",
       "      <td>136.830002</td>\n",
       "      <td>135.179993</td>\n",
       "      <td>136.160004</td>\n",
       "      <td>136.160004</td>\n",
       "      <td>7954600</td>\n",
       "    </tr>\n",
       "    <tr>\n",
       "      <th>12487</th>\n",
       "      <td>2022-03-03</td>\n",
       "      <td>137.289993</td>\n",
       "      <td>140.470001</td>\n",
       "      <td>136.550003</td>\n",
       "      <td>139.289993</td>\n",
       "      <td>139.289993</td>\n",
       "      <td>9961700</td>\n",
       "    </tr>\n",
       "    <tr>\n",
       "      <th>12488</th>\n",
       "      <td>2022-03-04</td>\n",
       "      <td>137.809998</td>\n",
       "      <td>142.940002</td>\n",
       "      <td>137.589996</td>\n",
       "      <td>142.820007</td>\n",
       "      <td>142.820007</td>\n",
       "      <td>11858800</td>\n",
       "    </tr>\n",
       "    <tr>\n",
       "      <th>12489</th>\n",
       "      <td>2022-03-07</td>\n",
       "      <td>141.300003</td>\n",
       "      <td>143.630005</td>\n",
       "      <td>140.449997</td>\n",
       "      <td>141.669998</td>\n",
       "      <td>141.669998</td>\n",
       "      <td>15273000</td>\n",
       "    </tr>\n",
       "    <tr>\n",
       "      <th>12490</th>\n",
       "      <td>2022-03-07</td>\n",
       "      <td>141.300003</td>\n",
       "      <td>143.630005</td>\n",
       "      <td>140.449997</td>\n",
       "      <td>141.669998</td>\n",
       "      <td>141.669998</td>\n",
       "      <td>14297959</td>\n",
       "    </tr>\n",
       "  </tbody>\n",
       "</table>\n",
       "</div>"
      ],
      "text/plain": [
       "             Date        Open        High         Low       Close   Adj Close  \\\n",
       "12486  2022-03-02  135.660004  136.830002  135.179993  136.160004  136.160004   \n",
       "12487  2022-03-03  137.289993  140.470001  136.550003  139.289993  139.289993   \n",
       "12488  2022-03-04  137.809998  142.940002  137.589996  142.820007  142.820007   \n",
       "12489  2022-03-07  141.300003  143.630005  140.449997  141.669998  141.669998   \n",
       "12490  2022-03-07  141.300003  143.630005  140.449997  141.669998  141.669998   \n",
       "\n",
       "         Volume  \n",
       "12486   7954600  \n",
       "12487   9961700  \n",
       "12488  11858800  \n",
       "12489  15273000  \n",
       "12490  14297959  "
      ]
     },
     "execution_count": 10,
     "metadata": {},
     "output_type": "execute_result"
    }
   ],
   "source": [
    "df.tail()"
   ]
  },
  {
   "cell_type": "code",
   "execution_count": 12,
   "id": "a856d2aa",
   "metadata": {},
   "outputs": [
    {
     "data": {
      "text/html": [
       "<div>\n",
       "<style scoped>\n",
       "    .dataframe tbody tr th:only-of-type {\n",
       "        vertical-align: middle;\n",
       "    }\n",
       "\n",
       "    .dataframe tbody tr th {\n",
       "        vertical-align: top;\n",
       "    }\n",
       "\n",
       "    .dataframe thead th {\n",
       "        text-align: right;\n",
       "    }\n",
       "</style>\n",
       "<table border=\"1\" class=\"dataframe\">\n",
       "  <thead>\n",
       "    <tr style=\"text-align: right;\">\n",
       "      <th></th>\n",
       "      <th>Open</th>\n",
       "      <th>High</th>\n",
       "      <th>Low</th>\n",
       "      <th>Close</th>\n",
       "      <th>Adj Close</th>\n",
       "      <th>Volume</th>\n",
       "    </tr>\n",
       "  </thead>\n",
       "  <tbody>\n",
       "    <tr>\n",
       "      <th>count</th>\n",
       "      <td>12491.000000</td>\n",
       "      <td>12491.000000</td>\n",
       "      <td>12491.000000</td>\n",
       "      <td>12491.000000</td>\n",
       "      <td>12491.000000</td>\n",
       "      <td>1.249100e+04</td>\n",
       "    </tr>\n",
       "    <tr>\n",
       "      <th>mean</th>\n",
       "      <td>35.479198</td>\n",
       "      <td>35.811310</td>\n",
       "      <td>35.151302</td>\n",
       "      <td>35.485380</td>\n",
       "      <td>28.948680</td>\n",
       "      <td>7.540560e+06</td>\n",
       "    </tr>\n",
       "    <tr>\n",
       "      <th>std</th>\n",
       "      <td>37.207071</td>\n",
       "      <td>37.519419</td>\n",
       "      <td>36.914186</td>\n",
       "      <td>37.214409</td>\n",
       "      <td>34.585375</td>\n",
       "      <td>6.237162e+06</td>\n",
       "    </tr>\n",
       "    <tr>\n",
       "      <th>min</th>\n",
       "      <td>0.015625</td>\n",
       "      <td>0.015625</td>\n",
       "      <td>0.014404</td>\n",
       "      <td>0.015625</td>\n",
       "      <td>0.008889</td>\n",
       "      <td>0.000000e+00</td>\n",
       "    </tr>\n",
       "    <tr>\n",
       "      <th>25%</th>\n",
       "      <td>1.386719</td>\n",
       "      <td>1.402344</td>\n",
       "      <td>1.375000</td>\n",
       "      <td>1.386719</td>\n",
       "      <td>0.858323</td>\n",
       "      <td>3.883600e+06</td>\n",
       "    </tr>\n",
       "    <tr>\n",
       "      <th>50%</th>\n",
       "      <td>16.437500</td>\n",
       "      <td>16.593750</td>\n",
       "      <td>16.250000</td>\n",
       "      <td>16.375000</td>\n",
       "      <td>10.588767</td>\n",
       "      <td>6.312800e+06</td>\n",
       "    </tr>\n",
       "    <tr>\n",
       "      <th>75%</th>\n",
       "      <td>56.395001</td>\n",
       "      <td>57.000000</td>\n",
       "      <td>55.664999</td>\n",
       "      <td>56.316250</td>\n",
       "      <td>40.920847</td>\n",
       "      <td>9.511400e+06</td>\n",
       "    </tr>\n",
       "    <tr>\n",
       "      <th>max</th>\n",
       "      <td>153.600006</td>\n",
       "      <td>153.660004</td>\n",
       "      <td>151.660004</td>\n",
       "      <td>152.789993</td>\n",
       "      <td>150.842651</td>\n",
       "      <td>1.318336e+08</td>\n",
       "    </tr>\n",
       "  </tbody>\n",
       "</table>\n",
       "</div>"
      ],
      "text/plain": [
       "               Open          High           Low         Close     Adj Close  \\\n",
       "count  12491.000000  12491.000000  12491.000000  12491.000000  12491.000000   \n",
       "mean      35.479198     35.811310     35.151302     35.485380     28.948680   \n",
       "std       37.207071     37.519419     36.914186     37.214409     34.585375   \n",
       "min        0.015625      0.015625      0.014404      0.015625      0.008889   \n",
       "25%        1.386719      1.402344      1.375000      1.386719      0.858323   \n",
       "50%       16.437500     16.593750     16.250000     16.375000     10.588767   \n",
       "75%       56.395001     57.000000     55.664999     56.316250     40.920847   \n",
       "max      153.600006    153.660004    151.660004    152.789993    150.842651   \n",
       "\n",
       "             Volume  \n",
       "count  1.249100e+04  \n",
       "mean   7.540560e+06  \n",
       "std    6.237162e+06  \n",
       "min    0.000000e+00  \n",
       "25%    3.883600e+06  \n",
       "50%    6.312800e+06  \n",
       "75%    9.511400e+06  \n",
       "max    1.318336e+08  "
      ]
     },
     "execution_count": 12,
     "metadata": {},
     "output_type": "execute_result"
    }
   ],
   "source": [
    "df.describe()"
   ]
  },
  {
   "cell_type": "code",
   "execution_count": 14,
   "id": "0ab20caf",
   "metadata": {},
   "outputs": [
    {
     "data": {
      "text/plain": [
       "(12491, 7)"
      ]
     },
     "execution_count": 14,
     "metadata": {},
     "output_type": "execute_result"
    }
   ],
   "source": [
    "df.shape"
   ]
  },
  {
   "cell_type": "code",
   "execution_count": 17,
   "id": "712b1dd1",
   "metadata": {},
   "outputs": [
    {
     "name": "stdout",
     "output_type": "stream",
     "text": [
      "<class 'pandas.core.frame.DataFrame'>\n",
      "RangeIndex: 12491 entries, 0 to 12490\n",
      "Data columns (total 7 columns):\n",
      " #   Column     Non-Null Count  Dtype  \n",
      "---  ------     --------------  -----  \n",
      " 0   Date       12491 non-null  object \n",
      " 1   Open       12491 non-null  float64\n",
      " 2   High       12491 non-null  float64\n",
      " 3   Low        12491 non-null  float64\n",
      " 4   Close      12491 non-null  float64\n",
      " 5   Adj Close  12491 non-null  float64\n",
      " 6   Volume     12491 non-null  int64  \n",
      "dtypes: float64(5), int64(1), object(1)\n",
      "memory usage: 683.2+ KB\n"
     ]
    }
   ],
   "source": [
    "df.info()"
   ]
  },
  {
   "cell_type": "code",
   "execution_count": 18,
   "id": "284d5e07",
   "metadata": {},
   "outputs": [
    {
     "data": {
      "text/plain": [
       "Date         0\n",
       "Open         0\n",
       "High         0\n",
       "Low          0\n",
       "Close        0\n",
       "Adj Close    0\n",
       "Volume       0\n",
       "dtype: int64"
      ]
     },
     "execution_count": 18,
     "metadata": {},
     "output_type": "execute_result"
    }
   ],
   "source": [
    "df.isnull().sum()"
   ]
  },
  {
   "cell_type": "code",
   "execution_count": 22,
   "id": "16e5f4cd",
   "metadata": {},
   "outputs": [
    {
     "data": {
      "text/plain": [
       "Index(['Date', 'Open', 'High', 'Low', 'Close', 'Adj Close', 'Volume'], dtype='object')"
      ]
     },
     "execution_count": 22,
     "metadata": {},
     "output_type": "execute_result"
    }
   ],
   "source": [
    "df.columns"
   ]
  },
  {
   "cell_type": "code",
   "execution_count": 23,
   "id": "e02a39b6",
   "metadata": {},
   "outputs": [
    {
     "data": {
      "text/plain": [
       "0"
      ]
     },
     "execution_count": 23,
     "metadata": {},
     "output_type": "execute_result"
    }
   ],
   "source": [
    "df.duplicated().sum()"
   ]
  },
  {
   "cell_type": "code",
   "execution_count": 24,
   "id": "146511cd",
   "metadata": {},
   "outputs": [
    {
     "data": {
      "text/plain": [
       "Date        Open        High        Low         Close       Adj Close   Volume  \n",
       "1972-08-25  0.063477    0.064697    0.063477    0.064453    0.036447    2508800     1\n",
       "2005-09-15  44.700001   44.799999   44.230000   44.320000   31.045322   18444400    1\n",
       "2005-08-15  48.820000   49.150002   48.500000   49.099998   34.285172   10345200    1\n",
       "2005-08-16  48.060001   48.200001   47.150002   47.570000   33.216824   29758300    1\n",
       "2005-08-17  47.310001   47.610001   47.110001   47.110001   32.999672   11811600    1\n",
       "                                                                                   ..\n",
       "1989-02-23  4.093750    4.125000    4.046875    4.093750    2.584846    5244800     1\n",
       "1989-02-24  4.078125    4.109375    3.968750    4.000000    2.525651    5100800     1\n",
       "1989-02-27  3.968750    4.031250    3.953125    4.000000    2.525651    3639200     1\n",
       "1989-02-28  4.000000    4.015625    3.953125    3.984375    2.515786    4019200     1\n",
       "2022-03-07  141.300003  143.630005  140.449997  141.669998  141.669998  15273000    1\n",
       "Length: 12491, dtype: int64"
      ]
     },
     "execution_count": 24,
     "metadata": {},
     "output_type": "execute_result"
    }
   ],
   "source": [
    "df.value_counts()"
   ]
  },
  {
   "cell_type": "code",
   "execution_count": 25,
   "id": "e8194002",
   "metadata": {},
   "outputs": [
    {
     "data": {
      "text/plain": [
       "Date          True\n",
       "Open          True\n",
       "High          True\n",
       "Low           True\n",
       "Close         True\n",
       "Adj Close     True\n",
       "Volume       False\n",
       "dtype: bool"
      ]
     },
     "execution_count": 25,
     "metadata": {},
     "output_type": "execute_result"
    }
   ],
   "source": [
    "df.all()"
   ]
  },
  {
   "cell_type": "code",
   "execution_count": 26,
   "id": "00cb362b",
   "metadata": {},
   "outputs": [],
   "source": [
    "# Extract the 'Close' prices\n",
    "df = df[['Close']]\n",
    "dataset = df.values\n",
    "\n",
    "# Normalize the dataset\n",
    "scaler = MinMaxScaler()\n",
    "dataset = scaler.fit_transform(dataset)\n",
    "\n",
    "# Split the data into training and testing sets\n",
    "train_size = int(len(dataset) * 0.8)\n",
    "train_data, test_data = dataset[:train_size], dataset[train_size:]\n"
   ]
  },
  {
   "cell_type": "code",
   "execution_count": 27,
   "id": "ff399e4d",
   "metadata": {},
   "outputs": [],
   "source": [
    "def create_sequences(df, seq_length):\n",
    "    sequences = []\n",
    "    for i in range(len(df) - seq_length):\n",
    "        sequences.append(df[i:i + seq_length])\n",
    "    return np.array(sequences)\n",
    "\n",
    "seq_length = 10\n",
    "X_train = create_sequences(train_data, seq_length)\n",
    "y_train = train_data[seq_length:]\n",
    "\n",
    "X_test = create_sequences(test_data, seq_length)\n",
    "y_test = test_data[seq_length:]\n"
   ]
  },
  {
   "cell_type": "markdown",
   "id": "efcebad2",
   "metadata": {},
   "source": [
    "# Build and train the LSTM model:"
   ]
  },
  {
   "cell_type": "code",
   "execution_count": 28,
   "id": "437d18bf",
   "metadata": {},
   "outputs": [
    {
     "name": "stdout",
     "output_type": "stream",
     "text": [
      "Epoch 1/50\n",
      "312/312 [==============================] - 3s 5ms/step - loss: 9.9753e-04\n",
      "Epoch 2/50\n",
      "312/312 [==============================] - 2s 5ms/step - loss: 3.9053e-05\n",
      "Epoch 3/50\n",
      "312/312 [==============================] - 2s 5ms/step - loss: 3.8438e-05\n",
      "Epoch 4/50\n",
      "312/312 [==============================] - 2s 5ms/step - loss: 3.5707e-05\n",
      "Epoch 5/50\n",
      "312/312 [==============================] - 2s 6ms/step - loss: 3.8083e-05\n",
      "Epoch 6/50\n",
      "312/312 [==============================] - 2s 5ms/step - loss: 3.5924e-05\n",
      "Epoch 7/50\n",
      "312/312 [==============================] - 2s 6ms/step - loss: 3.6279e-05\n",
      "Epoch 8/50\n",
      "312/312 [==============================] - 2s 7ms/step - loss: 3.3412e-05\n",
      "Epoch 9/50\n",
      "312/312 [==============================] - 2s 7ms/step - loss: 3.2508e-05\n",
      "Epoch 10/50\n",
      "312/312 [==============================] - 2s 8ms/step - loss: 3.0309e-05\n",
      "Epoch 11/50\n",
      "312/312 [==============================] - 2s 5ms/step - loss: 2.9757e-05\n",
      "Epoch 12/50\n",
      "312/312 [==============================] - 2s 6ms/step - loss: 2.9924e-05\n",
      "Epoch 13/50\n",
      "312/312 [==============================] - 2s 6ms/step - loss: 2.7885e-05\n",
      "Epoch 14/50\n",
      "312/312 [==============================] - 2s 6ms/step - loss: 2.6580e-05\n",
      "Epoch 15/50\n",
      "312/312 [==============================] - 2s 6ms/step - loss: 2.4640e-05\n",
      "Epoch 16/50\n",
      "312/312 [==============================] - 2s 6ms/step - loss: 2.4773e-05\n",
      "Epoch 17/50\n",
      "312/312 [==============================] - 2s 5ms/step - loss: 2.2995e-05\n",
      "Epoch 18/50\n",
      "312/312 [==============================] - 2s 6ms/step - loss: 2.4123e-05\n",
      "Epoch 19/50\n",
      "312/312 [==============================] - 2s 6ms/step - loss: 2.0839e-05\n",
      "Epoch 20/50\n",
      "312/312 [==============================] - 2s 5ms/step - loss: 2.0428e-05\n",
      "Epoch 21/50\n",
      "312/312 [==============================] - 2s 6ms/step - loss: 1.9549e-05\n",
      "Epoch 22/50\n",
      "312/312 [==============================] - 2s 6ms/step - loss: 1.8897e-05\n",
      "Epoch 23/50\n",
      "312/312 [==============================] - 2s 5ms/step - loss: 2.0031e-05\n",
      "Epoch 24/50\n",
      "312/312 [==============================] - 2s 6ms/step - loss: 1.7870e-05\n",
      "Epoch 25/50\n",
      "312/312 [==============================] - 2s 6ms/step - loss: 1.7577e-05\n",
      "Epoch 26/50\n",
      "312/312 [==============================] - 2s 6ms/step - loss: 1.6597e-05\n",
      "Epoch 27/50\n",
      "312/312 [==============================] - 2s 5ms/step - loss: 1.7443e-05\n",
      "Epoch 28/50\n",
      "312/312 [==============================] - 2s 7ms/step - loss: 1.7237e-05\n",
      "Epoch 29/50\n",
      "312/312 [==============================] - 2s 6ms/step - loss: 1.5892e-05\n",
      "Epoch 30/50\n",
      "312/312 [==============================] - 2s 5ms/step - loss: 1.5937e-05\n",
      "Epoch 31/50\n",
      "312/312 [==============================] - 2s 5ms/step - loss: 1.5574e-05\n",
      "Epoch 32/50\n",
      "312/312 [==============================] - 2s 5ms/step - loss: 1.5291e-05\n",
      "Epoch 33/50\n",
      "312/312 [==============================] - 2s 5ms/step - loss: 1.4923e-05\n",
      "Epoch 34/50\n",
      "312/312 [==============================] - 2s 5ms/step - loss: 1.5424e-05\n",
      "Epoch 35/50\n",
      "312/312 [==============================] - 2s 5ms/step - loss: 1.5535e-05\n",
      "Epoch 36/50\n",
      "312/312 [==============================] - 2s 5ms/step - loss: 1.4133e-05\n",
      "Epoch 37/50\n",
      "312/312 [==============================] - 2s 5ms/step - loss: 1.4867e-05\n",
      "Epoch 38/50\n",
      "312/312 [==============================] - 2s 5ms/step - loss: 1.5182e-05\n",
      "Epoch 39/50\n",
      "312/312 [==============================] - 2s 5ms/step - loss: 1.4446e-05\n",
      "Epoch 40/50\n",
      "312/312 [==============================] - 2s 5ms/step - loss: 1.4221e-05\n",
      "Epoch 41/50\n",
      "312/312 [==============================] - 2s 5ms/step - loss: 1.5409e-05\n",
      "Epoch 42/50\n",
      "312/312 [==============================] - 2s 5ms/step - loss: 1.5289e-05\n",
      "Epoch 43/50\n",
      "312/312 [==============================] - 2s 5ms/step - loss: 1.4488e-05\n",
      "Epoch 44/50\n",
      "312/312 [==============================] - 2s 5ms/step - loss: 1.5755e-05\n",
      "Epoch 45/50\n",
      "312/312 [==============================] - 2s 5ms/step - loss: 1.5003e-05\n",
      "Epoch 46/50\n",
      "312/312 [==============================] - 2s 5ms/step - loss: 1.4694e-05\n",
      "Epoch 47/50\n",
      "312/312 [==============================] - 2s 5ms/step - loss: 1.5075e-05\n",
      "Epoch 48/50\n",
      "312/312 [==============================] - 2s 5ms/step - loss: 1.4956e-05\n",
      "Epoch 49/50\n",
      "312/312 [==============================] - 2s 5ms/step - loss: 1.4363e-05\n",
      "Epoch 50/50\n",
      "312/312 [==============================] - 2s 5ms/step - loss: 1.5511e-05\n"
     ]
    },
    {
     "data": {
      "text/plain": [
       "<keras.src.callbacks.History at 0x2147f0fdac0>"
      ]
     },
     "execution_count": 28,
     "metadata": {},
     "output_type": "execute_result"
    }
   ],
   "source": [
    "model = Sequential()\n",
    "model.add(LSTM(50, input_shape=(seq_length, 1)))\n",
    "model.add(Dense(1))\n",
    "model.compile(optimizer='adam', loss='mean_squared_error')\n",
    "\n",
    "model.fit(X_train, y_train, epochs=50, batch_size=32)\n"
   ]
  },
  {
   "cell_type": "code",
   "execution_count": 30,
   "id": "1c8ad16e",
   "metadata": {},
   "outputs": [
    {
     "name": "stdout",
     "output_type": "stream",
     "text": [
      "78/78 [==============================] - 0s 2ms/step\n"
     ]
    }
   ],
   "source": [
    "y_pred = model.predict(X_test)\n",
    "y_pred = scaler.inverse_transform(y_pred)\n",
    "y_test = scaler.inverse_transform(y_test)"
   ]
  },
  {
   "cell_type": "code",
   "execution_count": 32,
   "id": "226d427e",
   "metadata": {},
   "outputs": [
    {
     "name": "stdout",
     "output_type": "stream",
     "text": [
      "Mean Squared Error: 215960491.97\n"
     ]
    }
   ],
   "source": [
    "from sklearn.metrics import mean_squared_error\n",
    "\n",
    "# Calculate the Mean Squared Error (MSE)\n",
    "mse = mean_squared_error(y_test, y_pred)\n",
    "print(f\"Mean Squared Error: {mse:.2f}\")\n"
   ]
  },
  {
   "cell_type": "code",
   "execution_count": 34,
   "id": "a637e457",
   "metadata": {},
   "outputs": [
    {
     "name": "stdout",
     "output_type": "stream",
     "text": [
      "1/1 [==============================] - 0s 20ms/step\n",
      "1/1 [==============================] - 0s 23ms/step\n",
      "1/1 [==============================] - 0s 19ms/step\n",
      "1/1 [==============================] - 0s 23ms/step\n",
      "1/1 [==============================] - 0s 19ms/step\n",
      "Predicted Prices for the Next 5 Days:\n",
      "Day 1: 135.09\n",
      "Day 2: 973.73\n",
      "Day 3: 1057.18\n",
      "Day 4: 1068.28\n",
      "Day 5: 1069.32\n"
     ]
    }
   ],
   "source": [
    "# Use the last part of the test data for making future predictions\n",
    "future_data = test_data[-seq_length:]\n",
    "\n",
    "# Number of days to predict into the future\n",
    "days_to_predict = 5\n",
    "predicted_prices = []\n",
    "\n",
    "for i in range(days_to_predict):\n",
    "    # Reshape the input for the model\n",
    "    input_data = future_data[-seq_length:]\n",
    "    input_data = np.reshape(input_data, (1, seq_length, 1))\n",
    "\n",
    "    # Make a prediction for the next day\n",
    "    next_day_price = model.predict(input_data)\n",
    "    \n",
    "    # Inverse transform the predicted price\n",
    "    next_day_price = scaler.inverse_transform(next_day_price)\n",
    "\n",
    "    # Append the prediction to the list of predicted prices\n",
    "    predicted_prices.append(next_day_price[0, 0])\n",
    "\n",
    "    # Update the input data for the next iteration\n",
    "    future_data = np.append(future_data, next_day_price, axis=0)\n",
    "\n",
    "# Print the predicted prices for the next 5 days\n",
    "print(\"Predicted Prices for the Next 5 Days:\")\n",
    "for i, price in enumerate(predicted_prices):\n",
    "    print(f\"Day {i+1}: {price:.2f}\")\n"
   ]
  },
  {
   "cell_type": "code",
   "execution_count": 35,
   "id": "7b3c4074",
   "metadata": {},
   "outputs": [
    {
     "data": {
      "image/png": "[encoded data removed]",
      "text/plain": [
       "<Figure size 864x432 with 1 Axes>"
      ]
     },
     "metadata": {
      "needs_background": "light"
     },
     "output_type": "display_data"
    }
   ],
   "source": [
    "plt.figure(figsize=(12, 6))\n",
    "plt.plot(y_test, label='Actual')\n",
    "plt.plot(y_pred, label='Predicted')\n",
    "plt.legend()\n",
    "plt.show()\n"
   ]
  },
  {
   "cell_type": "code",
   "execution_count": 38,
   "id": "1de672f4",
   "metadata": {},
   "outputs": [],
   "source": [
    "# <div class=\"alert alert-success\" style=\"color:blue;\">This is a comment in blue.</div>\n",
    "# <div class=\"alert alert-warning\" style=\"color:orange;\">This is a comment in orange.</div>\n",
    "# <div class=\"alert alert-danger\" style=\"color:red;\">This is a comment in red.</div>\n"
   ]
  },
  {
   "cell_type": "code",
   "execution_count": 43,
   "id": "2b53c5d1",
   "metadata": {},
   "outputs": [
    {
     "data": {
      "image/png": "[encoded data removed]",
      "text/plain": [
       "<Figure size 720x432 with 1 Axes>"
      ]
     },
     "metadata": {
      "needs_background": "light"
     },
     "output_type": "display_data"
    }
   ],
   "source": [
    "import matplotlib.pyplot as plt\n",
    "\n",
    "# Replace 'x' and 'y' with your actual data\n",
    "x = [1, 2, 3, 4, 5]\n",
    "y = [100, 120, 130, 110, 140]\n",
    "\n",
    "# Create a colorful plot\n",
    "plt.figure(figsize=(10, 6))\n",
    "plt.plot(x, y, color='green', label='Stock Price')\n",
    "plt.xlabel('Date')\n",
    "plt.ylabel('Price')\n",
    "plt.title('Walmart Stock Price Over Time', color='blue')\n",
    "plt.legend()\n",
    "plt.show()\n"
   ]
  }
 ],
 "metadata": {
  "kernelspec": {
   "display_name": "Python 3 (ipykernel)",
   "language": "python",
   "name": "python3"
  },
  "language_info": {
   "codemirror_mode": {
    "name": "ipython",
    "version": 3
   },
   "file_extension": ".py",
   "mimetype": "text/x-python",
   "name": "python",
   "nbconvert_exporter": "python",
   "pygments_lexer": "ipython3",
   "version": "3.9.12"
  }
 },
 "nbformat": 4,
 "nbformat_minor": 5
}
